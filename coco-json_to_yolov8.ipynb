{
 "cells": [
  {
   "cell_type": "code",
   "execution_count": null,
   "metadata": {},
   "outputs": [],
   "source": [
    "import os\n",
    "import json\n",
    "import shutil"
   ]
  },
  {
   "cell_type": "code",
   "execution_count": null,
   "metadata": {},
   "outputs": [],
   "source": [
    "# load json and save directory for labels train/val/test\n",
    "coco_file = 'labels/val.json'\n",
    "save_folder = 'labels/val'\n",
    "\n",
    "# 0 for truck, 1 for car\n",
    "category = 1\n",
    "\n",
    "#source of all the images and destination folder for train/test/val\n",
    "source_path = \"images/all_images\"\n",
    "destination_path = \"images/val\"\n",
    "\n",
    "\n",
    "# Use os.listdir() to get a list of filenames in the folder\n",
    "file_names = os.listdir(source_path)\n",
    "\n",
    "\n",
    "\n",
    "with open(coco_file) as f:\n",
    "    coco = json.load(f)\n",
    "\n",
    "images = coco['images']\n",
    "annotations = coco['annotations'] \n",
    "categories = {cat['id']: cat['name'] for cat in coco['categories']}\n",
    "\n",
    "#os.makedirs(save_folder, exist_ok=True)\n",
    "\n",
    "for ann in annotations:\n",
    "    image = next(img for img in images if (img['id'] == ann['image_id']))\n",
    "    if (image[\"file_name\"] not in file_names):\n",
    "        continue\n",
    "    \n",
    "    width, height = image['width'], image['height']\n",
    "    x_coco, y_coco, width_coco, height_coco = ann['bbox']\n",
    "    \n",
    "   \n",
    "    \n",
    "    category_id = ann['category_id']\n",
    "\n",
    "    image_id = ann['image_id']\n",
    "\n",
    "    filename = image['file_name']\n",
    "    label_filename = filename.split('.jpg')[0]\n",
    "    label_path = os.path.join(save_folder, f'{label_filename}.txt')\n",
    "    with open(label_path, 'a') as f:\n",
    "\n",
    "        segmentation_points_list = []\n",
    "        for segmentation in ann['segmentation']:\n",
    "            # Check if any element in segmentation is a string\n",
    "            if any(isinstance(point, str) for point in segmentation):\n",
    "                continue  # Skip this segmentation if it contains strings\n",
    "\n",
    "            segmentation_points = [str(float(point) / (width-1) if i % 2 == 0 else float(point) / (height-1)) for i, point in enumerate(segmentation)]\n",
    "            segmentation_points_list.append(' '.join(segmentation_points))\n",
    "            segmentation_points_string = ' '.join(segmentation_points_list)\n",
    "            line = '{} {}\\n'.format(category, segmentation_points_string)\n",
    "            f.write(line)\n",
    "            segmentation_points_list.clear()\n",
    "    image_source = source_path + f'/{image[\"file_name\"]}'\n",
    "    shutil.copy(image_source, destination_path)"
   ]
  }
 ],
 "metadata": {
  "kernelspec": {
   "display_name": "vision1",
   "language": "python",
   "name": "python3"
  },
  "language_info": {
   "name": "python",
   "version": "3.10.13"
  }
 },
 "nbformat": 4,
 "nbformat_minor": 2
}
